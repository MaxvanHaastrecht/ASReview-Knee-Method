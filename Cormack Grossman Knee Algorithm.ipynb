{
 "cells": [
  {
   "cell_type": "markdown",
   "id": "ee7305ec",
   "metadata": {},
   "source": [
    "# The Knee Algorithm"
   ]
  },
  {
   "cell_type": "markdown",
   "id": "7339985b",
   "metadata": {},
   "source": [
    "In this notebook we implement a simple version of the 'knee method' stopping criterion algorithm. See [Cormack & Grossman (2016)](https://doi.org/10.1145/2911451.2911510) for the original algorithm. Cormack & Grossman (2016) also provide details on how to handle cases with a low total of relevant papers (*R*) and a low ratio of relevant papers to the total number of papers (*R*/|*C*|)."
   ]
  },
  {
   "cell_type": "markdown",
   "id": "512e5164",
   "metadata": {},
   "source": [
    "We will use a dataset that can be exported from the [ASReview](https://asreview.nl/) tool, which helps users to automate reviews with the help of active learning. Note that the dataset is the result of a completed systematic review screening process, but the knee algorithm is intended to be applied during the screening process to provide a stopping criterion."
   ]
  },
  {
   "cell_type": "code",
   "execution_count": 1,
   "id": "91cc93ec",
   "metadata": {},
   "outputs": [
    {
     "data": {
      "text/html": [
       "<div>\n",
       "<style scoped>\n",
       "    .dataframe tbody tr th:only-of-type {\n",
       "        vertical-align: middle;\n",
       "    }\n",
       "\n",
       "    .dataframe tbody tr th {\n",
       "        vertical-align: top;\n",
       "    }\n",
       "\n",
       "    .dataframe thead th {\n",
       "        text-align: right;\n",
       "    }\n",
       "</style>\n",
       "<table border=\"1\" class=\"dataframe\">\n",
       "  <thead>\n",
       "    <tr style=\"text-align: right;\">\n",
       "      <th></th>\n",
       "      <th>category</th>\n",
       "      <th>Relevant by ASReview LAB</th>\n",
       "      <th>Random relevant</th>\n",
       "    </tr>\n",
       "  </thead>\n",
       "  <tbody>\n",
       "    <tr>\n",
       "      <th>0</th>\n",
       "      <td>1</td>\n",
       "      <td>0</td>\n",
       "      <td>0</td>\n",
       "    </tr>\n",
       "    <tr>\n",
       "      <th>1</th>\n",
       "      <td>2</td>\n",
       "      <td>0</td>\n",
       "      <td>0</td>\n",
       "    </tr>\n",
       "    <tr>\n",
       "      <th>2</th>\n",
       "      <td>3</td>\n",
       "      <td>0</td>\n",
       "      <td>0</td>\n",
       "    </tr>\n",
       "    <tr>\n",
       "      <th>3</th>\n",
       "      <td>4</td>\n",
       "      <td>0</td>\n",
       "      <td>1</td>\n",
       "    </tr>\n",
       "    <tr>\n",
       "      <th>4</th>\n",
       "      <td>5</td>\n",
       "      <td>1</td>\n",
       "      <td>1</td>\n",
       "    </tr>\n",
       "  </tbody>\n",
       "</table>\n",
       "</div>"
      ],
      "text/plain": [
       "   category  Relevant by ASReview LAB  Random relevant\n",
       "0         1                         0                0\n",
       "1         2                         0                0\n",
       "2         3                         0                0\n",
       "3         4                         0                1\n",
       "4         5                         1                1"
      ]
     },
     "execution_count": 1,
     "metadata": {},
     "output_type": "execute_result"
    }
   ],
   "source": [
    "import pandas as pd\n",
    "\n",
    "df = pd.read_csv('ASReviewLABprogressRecall.2.csv')\n",
    "df.head()"
   ]
  },
  {
   "cell_type": "markdown",
   "id": "d242fd55",
   "metadata": {},
   "source": [
    "We now proceed to the actual knee algorithm. For each evaluation point *s*, we look back to (nearly) all earlier evaluation points *i* to see if the slope between 1 and *i* is more than ρ times as high than the slope between *i* and *s*, for a particular cutoff value ρ. There are faster implementations of this algorithm, as also mentioned in Cormack & Grossman (2016). The below cell defines a function that takes the minimum number of relevant papers reached *k* and the slope ratio cutoff value ρ as inputs, and outputs the relevant knee algorithm results."
   ]
  },
  {
   "cell_type": "code",
   "execution_count": 2,
   "id": "1cc71e41",
   "metadata": {
    "code_folding": []
   },
   "outputs": [],
   "source": [
    "def calculate_knee_values(k, rho, df):\n",
    "\n",
    "    # Variables to store stopping values\n",
    "    stop_i = -1\n",
    "    stop_s = -1\n",
    "    stop_relevant = -1\n",
    "    slope_stop = -1\n",
    "    \n",
    "    for rank_s, relevant in zip(df['category'], df['Relevant by ASReview LAB']):\n",
    "        \n",
    "        # If knee found, break\n",
    "        if stop_s > 0:\n",
    "            break\n",
    "        \n",
    "        # If number relevant less than k, do not even need to consider stopping\n",
    "        if relevant < k:\n",
    "            continue\n",
    "        \n",
    "        # Index (start=0) is one lower than rank (start=1)\n",
    "        index_s = rank_s - 1\n",
    "        \n",
    "        # Loop over all i and compare slopes\n",
    "        for rank_i in range(1, rank_s):\n",
    "            \n",
    "            # Calculate slope until i\n",
    "            index_i = rank_i - 1\n",
    "            num_relevant_i = df['Relevant by ASReview LAB'][index_i]\n",
    "            \n",
    "            slope_i = num_relevant_i / rank_i\n",
    "            \n",
    "            # If slope until i is zero, cannot exceed cutoff\n",
    "            if slope_i == 0:\n",
    "                continue\n",
    "            \n",
    "            num_relevant_s = df['Relevant by ASReview LAB'][index_s]\n",
    "            \n",
    "            # Calculate slope of s\n",
    "            # Add 1 to numerator to avoid edge cases with i very close to s\n",
    "            slope_s = (1 + num_relevant_s - num_relevant_i) / (rank_s - rank_i)\n",
    "            \n",
    "            # Calculate slope ratio\n",
    "            slope_ratio = slope_i / slope_s\n",
    "            \n",
    "            # Check if slope_ratio greater than cutoff\n",
    "            if slope_ratio > rho:\n",
    "                stop_i = rank_i\n",
    "                stop_s = rank_s\n",
    "                stop_relevant = num_relevant_s\n",
    "                slope_stop = slope_ratio\n",
    "                break\n",
    "                \n",
    "    return stop_i, stop_s, stop_relevant, slope_stop"
   ]
  },
  {
   "cell_type": "markdown",
   "id": "fec3e486",
   "metadata": {},
   "source": [
    "First, let's calculate the relevant results using the default values suggested by Cormack & Grossman (2016). Later, we will see what the effect is of changing the ρ value."
   ]
  },
  {
   "cell_type": "code",
   "execution_count": 3,
   "id": "d2f69c92",
   "metadata": {},
   "outputs": [],
   "source": [
    "k = 10\n",
    "rho = 6\n",
    "\n",
    "i, s, num_relevant, slope_ratio = calculate_knee_values(k, rho, df)"
   ]
  },
  {
   "cell_type": "code",
   "execution_count": 4,
   "id": "15db78d0",
   "metadata": {},
   "outputs": [
    {
     "name": "stdout",
     "output_type": "stream",
     "text": [
      "We stop at s=432 since the slope from 0 to i=421 is 6.11 times higher than the intermediate slope between i and s.\n"
     ]
    }
   ],
   "source": [
    "print('We stop at s=' + str(s) + ' since the slope from 0 to i='\n",
    "      + str(i) + ' is ' + str(round(slope_ratio, 2)) + ' times higher '\n",
    "     + 'than the intermediate slope between i and s.')"
   ]
  },
  {
   "cell_type": "markdown",
   "id": "215a0d66",
   "metadata": {},
   "source": [
    "In this specific case, we can calculate the recall achieved using this algorithm, since we know *R*. Remember that *R* is normally not known while performing a systematic review. When using automated approaches, you generally never get to know the true value of *R*."
   ]
  },
  {
   "cell_type": "code",
   "execution_count": 5,
   "id": "c93e7e66",
   "metadata": {},
   "outputs": [],
   "source": [
    "R = df['Random relevant'].iat[-1] # number of relevant documents, generally unknown"
   ]
  },
  {
   "cell_type": "code",
   "execution_count": 6,
   "id": "0fa5d48a",
   "metadata": {},
   "outputs": [
    {
     "name": "stdout",
     "output_type": "stream",
     "text": [
      "At the stopping point we have found 234 relevant papers. This corresponds to a recall of 84.0%.\n"
     ]
    }
   ],
   "source": [
    "print('At the stopping point we have found ' + str(num_relevant)\n",
    "     + ' relevant papers. This corresponds to a recall of '\n",
    "     + str(round(num_relevant/R, 2)*100) + '%.')"
   ]
  },
  {
   "cell_type": "markdown",
   "id": "99dc4311",
   "metadata": {},
   "source": [
    "We could additionally plot an overview of the results, although this is mostly relevant if the scales allow us to clearly see the difference between *i* and *s*."
   ]
  },
  {
   "cell_type": "code",
   "execution_count": 7,
   "id": "d5090e2c",
   "metadata": {},
   "outputs": [
    {
     "data": {
      "image/png": "[encoded data removed]",
      "text/plain": [
       "<Figure size 432x288 with 1 Axes>"
      ]
     },
     "metadata": {
      "needs_background": "light"
     },
     "output_type": "display_data"
    }
   ],
   "source": [
    "import matplotlib.pyplot as plt\n",
    "import seaborn as sns\n",
    "\n",
    "sns.lineplot(data=df, x = 'category', y = 'Relevant by ASReview LAB', color='k')\n",
    "plt.axvline(i, label='i', color='r')\n",
    "plt.axvline(s, label='s')\n",
    "\n",
    "plt.legend()\n",
    "plt.xlim([0, s * 1.1])\n",
    "plt.ylim([0, R * 1.1])\n",
    "\n",
    "plt.show()"
   ]
  },
  {
   "cell_type": "markdown",
   "id": "3b139671",
   "metadata": {},
   "source": [
    "Given our function, we can additionally analyse the tradeoff between number of evaluated papers and recall for various values of ρ."
   ]
  },
  {
   "cell_type": "code",
   "execution_count": 8,
   "id": "879d1125",
   "metadata": {},
   "outputs": [
    {
     "data": {
      "application/vnd.jupyter.widget-view+json": {
       "model_id": "d357d682d66744229455100716837360",
       "version_major": 2,
       "version_minor": 0
      },
      "text/plain": [
       "  0%|          | 0/100 [00:00<?, ?it/s]"
      ]
     },
     "metadata": {},
     "output_type": "display_data"
    }
   ],
   "source": [
    "import numpy as np\n",
    "from tqdm.notebook import tqdm\n",
    "\n",
    "k = 10\n",
    "\n",
    "# WARNING: setting 'num' high (e.g., >500) will cause code to take very long\n",
    "rho_values = np.linspace(3, 10, num = 100)\n",
    "\n",
    "s_values = []\n",
    "num_rel_values = []\n",
    "\n",
    "for rho_value in tqdm(rho_values):\n",
    "    \n",
    "    i, s, n, r = calculate_knee_values(k, rho_value, df)\n",
    "    \n",
    "    s_values.append(s)\n",
    "    num_rel_values.append(n)"
   ]
  },
  {
   "cell_type": "code",
   "execution_count": 9,
   "id": "cfe83b57",
   "metadata": {},
   "outputs": [
    {
     "data": {
      "image/png": "[encoded data removed]",
      "text/plain": [
       "<Figure size 432x288 with 2 Axes>"
      ]
     },
     "metadata": {
      "needs_background": "light"
     },
     "output_type": "display_data"
    }
   ],
   "source": [
    "ax = sns.lineplot(x = rho_values, y = s_values)\n",
    "ax2 = plt.twinx()\n",
    "sns.lineplot(x = rho_values, y = num_rel_values/R, label = 'Recall', color='r', ax=ax2)\n",
    "\n",
    "ax.set(xlabel='Slope ratio cutoff', ylabel='Evaluated documents')\n",
    "ax2.set(ylabel='Recall')\n",
    "\n",
    "plt.show()"
   ]
  }
 ],
 "metadata": {
  "kernelspec": {
   "display_name": "Python 3",
   "language": "python",
   "name": "python3"
  },
  "language_info": {
   "codemirror_mode": {
    "name": "ipython",
    "version": 3
   },
   "file_extension": ".py",
   "mimetype": "text/x-python",
   "name": "python",
   "nbconvert_exporter": "python",
   "pygments_lexer": "ipython3",
   "version": "3.7.11"
  }
 },
 "nbformat": 4,
 "nbformat_minor": 5
}
